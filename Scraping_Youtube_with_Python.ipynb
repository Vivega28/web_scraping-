{
  "nbformat": 4,
  "nbformat_minor": 0,
  "metadata": {
    "colab": {
      "provenance": []
    },
    "kernelspec": {
      "name": "python3",
      "display_name": "Python 3"
    },
    "language_info": {
      "name": "python"
    }
  },
  "cells": [
    {
      "cell_type": "code",
      "execution_count": 2,
      "metadata": {
        "colab": {
          "base_uri": "https://localhost:8080/"
        },
        "id": "VD2UjIp0DH-Z",
        "outputId": "99b97401-d581-42d4-cb69-522686c73628"
      },
      "outputs": [
        {
          "output_type": "stream",
          "name": "stdout",
          "text": [
            "Collecting pytube\n",
            "  Downloading pytube-15.0.0-py3-none-any.whl (57 kB)\n",
            "\u001b[?25l     \u001b[90m━━━━━━━━━━━━━━━━━━━━━━━━━━━━━━━━━━━━━━━━\u001b[0m \u001b[32m0.0/57.6 kB\u001b[0m \u001b[31m?\u001b[0m eta \u001b[36m-:--:--\u001b[0m\r\u001b[2K     \u001b[90m━━━━━━━━━━━━━━━━━━━━━━━━━━━━━━━━━━━━━━━━\u001b[0m \u001b[32m57.6/57.6 kB\u001b[0m \u001b[31m2.4 MB/s\u001b[0m eta \u001b[36m0:00:00\u001b[0m\n",
            "\u001b[?25hInstalling collected packages: pytube\n",
            "Successfully installed pytube-15.0.0\n"
          ]
        }
      ],
      "source": [
        "!pip install pytube # Install the pytube module\n",
        "\n",
        "from pytube import YouTube # Now you can import the module"
      ]
    },
    {
      "cell_type": "code",
      "source": [
        "link = input(\"Enter Link of Youtube Video: \")\n",
        "yt = YouTube(link)"
      ],
      "metadata": {
        "colab": {
          "base_uri": "https://localhost:8080/"
        },
        "id": "ZLhvIAUbDNbc",
        "outputId": "6e56ad72-f41f-4c78-d778-ab0201f73979"
      },
      "execution_count": 7,
      "outputs": [
        {
          "name": "stdout",
          "output_type": "stream",
          "text": [
            "Enter Link of Youtube Video: https://youtu.be/O6nnVHPjcJU?si=9pjBji39ujFs3OAE\n"
          ]
        }
      ]
    },
    {
      "cell_type": "markdown",
      "source": [],
      "metadata": {
        "id": "exS1RPfpEqZk"
      }
    },
    {
      "cell_type": "code",
      "source": [
        "# To print title\n",
        "print(\"Title :\", yt.title)\n",
        "# To get number of views\n",
        "print(\"Views :\", yt.views)\n",
        "# To get the length of video\n",
        "print(\"Duration :\", yt.length)\n",
        "# To get description\n",
        "print(\"Description :\", yt.description)\n",
        "# To get ratings\n",
        "print(\"Ratings :\", yt.rating)"
      ],
      "metadata": {
        "colab": {
          "base_uri": "https://localhost:8080/"
        },
        "id": "uDqQWloKDhCr",
        "outputId": "6811b7d9-3e8f-4d7e-e515-ce5e27557b72"
      },
      "execution_count": 8,
      "outputs": [
        {
          "output_type": "stream",
          "name": "stdout",
          "text": [
            "Title : Web Scraping Using Python | GeeksforGeeks\n",
            "Views : 259778\n",
            "Duration : 521\n",
            "Description : None\n",
            "Ratings : None\n"
          ]
        }
      ]
    },
    {
      "cell_type": "code",
      "source": [],
      "metadata": {
        "id": "po73PyIkDz-l"
      },
      "execution_count": null,
      "outputs": []
    }
  ]
}